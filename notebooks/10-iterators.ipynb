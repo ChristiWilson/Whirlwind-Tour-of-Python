{
  "cells": [
    {
      "cell_type": "code",
      "execution_count": 1,
      "metadata": {
        "collapsed": true,
        "pycharm": {
          "is_executing": false
        }
      },
      "outputs": [
        {
          "name": "stdout",
          "text": [
            "0 1 2 3 4 5 6 7 8 9 "
          ],
          "output_type": "stream"
        }
      ],
      "source": "# iterators - simple\nfor i in range(10):\n    print(i, end\u003d\u0027 \u0027)"
    },
    {
      "cell_type": "code",
      "execution_count": 2,
      "outputs": [
        {
          "name": "stdout",
          "text": [
            "3 5 7 9 11 "
          ],
          "output_type": "stream"
        }
      ],
      "source": "# iterate over a list\nfor value in [2, 4, 6, 8, 10]:\n    # do some operation\n    print(value + 1, end\u003d\u0027 \u0027)",
      "metadata": {
        "pycharm": {
          "metadata": false,
          "name": "#%%\n",
          "is_executing": false
        }
      }
    },
    {
      "cell_type": "code",
      "execution_count": 3,
      "outputs": [
        {
          "data": {
            "text/plain": "\u003clist_iterator at 0x24a3617b7b8\u003e"
          },
          "metadata": {},
          "output_type": "execute_result",
          "execution_count": 3
        }
      ],
      "source": "iter([2, 4, 6, 8, 10])",
      "metadata": {
        "pycharm": {
          "metadata": false,
          "name": "#%%\n",
          "is_executing": false
        }
      }
    },
    {
      "cell_type": "code",
      "execution_count": 4,
      "outputs": [],
      "source": "I \u003d iter([2, 4, 6, 8, 10])",
      "metadata": {
        "pycharm": {
          "metadata": false,
          "name": "#%%\n",
          "is_executing": false
        }
      }
    },
    {
      "cell_type": "code",
      "execution_count": 5,
      "outputs": [
        {
          "name": "stdout",
          "text": [
            "2\n"
          ],
          "output_type": "stream"
        }
      ],
      "source": "print(next(I))",
      "metadata": {
        "pycharm": {
          "metadata": false,
          "name": "#%%\n",
          "is_executing": false
        }
      }
    },
    {
      "cell_type": "code",
      "execution_count": 6,
      "outputs": [
        {
          "name": "stdout",
          "text": [
            "4\n"
          ],
          "output_type": "stream"
        }
      ],
      "source": "print(next(I))",
      "metadata": {
        "pycharm": {
          "metadata": false,
          "name": "#%%\n",
          "is_executing": false
        }
      }
    },
    {
      "cell_type": "code",
      "execution_count": 7,
      "outputs": [
        {
          "name": "stdout",
          "text": [
            "6\n"
          ],
          "output_type": "stream"
        }
      ],
      "source": "print(next(I))",
      "metadata": {
        "pycharm": {
          "metadata": false,
          "name": "#%%\n",
          "is_executing": false
        }
      }
    },
    {
      "cell_type": "code",
      "execution_count": 8,
      "outputs": [
        {
          "data": {
            "text/plain": "range(0, 10)"
          },
          "metadata": {},
          "output_type": "execute_result",
          "execution_count": 8
        }
      ],
      "source": "# the range() object\nrange(10)",
      "metadata": {
        "pycharm": {
          "metadata": false,
          "name": "#%%\n",
          "is_executing": false
        }
      }
    },
    {
      "cell_type": "code",
      "execution_count": 9,
      "outputs": [
        {
          "data": {
            "text/plain": "\u003crange_iterator at 0x24a361742f0\u003e"
          },
          "metadata": {},
          "output_type": "execute_result",
          "execution_count": 9
        }
      ],
      "source": "iter(range(10))",
      "metadata": {
        "pycharm": {
          "metadata": false,
          "name": "#%%\n",
          "is_executing": false
        }
      }
    },
    {
      "cell_type": "code",
      "execution_count": 10,
      "outputs": [
        {
          "name": "stdout",
          "text": [
            "0 1 2 3 4 5 6 7 8 9 "
          ],
          "output_type": "stream"
        }
      ],
      "source": "for i in range(10):\n    print(i, end\u003d\u0027 \u0027)",
      "metadata": {
        "pycharm": {
          "metadata": false,
          "name": "#%%\n",
          "is_executing": false
        }
      }
    },
    {
      "cell_type": "code",
      "execution_count": 11,
      "outputs": [
        {
          "name": "stdout",
          "text": [
            "0, 1, 2, 3, 4, 5, 6, 7, 8, 9, "
          ],
          "output_type": "stream"
        }
      ],
      "source": "N \u003d 10 ** 12\nfor i in range(N):\n    if i \u003e\u003d 10: break\n    print(i, end\u003d\u0027, \u0027)",
      "metadata": {
        "pycharm": {
          "metadata": false,
          "name": "#%%\n",
          "is_executing": false
        }
      }
    },
    {
      "cell_type": "code",
      "execution_count": 12,
      "outputs": [
        {
          "name": "stdout",
          "text": [
            "0,1,2,3,4,5,6,7,8,9,"
          ],
          "output_type": "stream"
        }
      ],
      "source": "from itertools import count\n\nfor i in count():\n    if i \u003e\u003d 10:\n        break\n    print(i, end\u003d\",\")",
      "metadata": {
        "pycharm": {
          "metadata": false,
          "name": "#%%\n",
          "is_executing": false
        }
      }
    },
    {
      "cell_type": "code",
      "execution_count": 13,
      "outputs": [
        {
          "name": "stdout",
          "text": [
            "0 2\n1 4\n2 6\n3 8\n4 10\n"
          ],
          "output_type": "stream"
        }
      ],
      "source": "# enumerate\n# tempted way\nL \u003d [2, 4, 6, 8, 10]\nfor i in range(len(L)):\n    print(i, L[i])",
      "metadata": {
        "pycharm": {
          "metadata": false,
          "name": "#%%\n",
          "is_executing": false
        }
      }
    },
    {
      "cell_type": "code",
      "execution_count": 14,
      "outputs": [
        {
          "name": "stdout",
          "text": [
            "0 2\n1 4\n2 6\n3 8\n4 10\n"
          ],
          "output_type": "stream"
        }
      ],
      "source": "for i, val in enumerate(L):\n    print(i, val)",
      "metadata": {
        "pycharm": {
          "metadata": false,
          "name": "#%%\n",
          "is_executing": false
        }
      }
    },
    {
      "cell_type": "code",
      "execution_count": 15,
      "outputs": [
        {
          "name": "stdout",
          "text": [
            "2 3\n4 6\n6 9\n8 12\n10 15\n"
          ],
          "output_type": "stream"
        }
      ],
      "source": "# zip\nL \u003d [2,4,6,8,10]\nR \u003d[3,6,9,12,15]\n\nfor lval, rval in zip(L,R):\n    print(lval, rval)",
      "metadata": {
        "pycharm": {
          "metadata": false,
          "name": "#%%\n",
          "is_executing": false
        }
      }
    },
    {
      "cell_type": "code",
      "execution_count": 16,
      "outputs": [
        {
          "name": "stdout",
          "text": [
            "0 1 4 9 16 25 36 49 64 81 "
          ],
          "output_type": "stream"
        }
      ],
      "source": "# map and filter\nsquare \u003d lambda x: x ** 2\nfor val in map(square, range(10)):\n    print(val, end\u003d\" \")",
      "metadata": {
        "pycharm": {
          "metadata": false,
          "name": "#%%\n",
          "is_executing": false
        }
      }
    },
    {
      "cell_type": "code",
      "execution_count": 17,
      "outputs": [
        {
          "name": "stdout",
          "text": [
            "0 2 4 6 8 "
          ],
          "output_type": "stream"
        }
      ],
      "source": "# find even numbers using filter\nis_even \u003d lambda x: x % 2 \u003d\u003d 0\nfor val in filter(is_even, range(10)):\n    print(val, end\u003d\" \")",
      "metadata": {
        "pycharm": {
          "metadata": false,
          "name": "#%%\n",
          "is_executing": false
        }
      }
    },
    {
      "cell_type": "code",
      "execution_count": 18,
      "outputs": [
        {
          "name": "stdout",
          "text": [
            "0 1 2 3 4 5 6 7 8 9\n"
          ],
          "output_type": "stream"
        }
      ],
      "source": "# Iterators as function arguments\nprint(*range(10))",
      "metadata": {
        "pycharm": {
          "metadata": false,
          "name": "#%%\n",
          "is_executing": false
        }
      }
    },
    {
      "cell_type": "code",
      "execution_count": 19,
      "outputs": [
        {
          "name": "stdout",
          "text": [
            "0 1 4 9 16 25 36 49 64 81\n"
          ],
          "output_type": "stream"
        }
      ],
      "source": "# from the map example earlier, can do this instead\nprint(*map(lambda x: x ** 2, range(10)))",
      "metadata": {
        "pycharm": {
          "metadata": false,
          "name": "#%%\n",
          "is_executing": false
        }
      }
    },
    {
      "cell_type": "code",
      "execution_count": 20,
      "outputs": [
        {
          "name": "stdout",
          "text": [
            "(1, \u0027a\u0027) (2, \u0027b\u0027) (3, \u0027c\u0027) (4, \u0027d\u0027)\n"
          ],
          "output_type": "stream"
        }
      ],
      "source": "# \nL1 \u003d (1, 2, 3, 4)\nL2 \u003d (\u0027a\u0027, \u0027b\u0027, \u0027c\u0027, \u0027d\u0027)\n\nz \u003d zip(L1, L2)\nprint(*z)",
      "metadata": {
        "pycharm": {
          "metadata": false,
          "name": "#%%\n",
          "is_executing": false
        }
      }
    },
    {
      "cell_type": "code",
      "execution_count": 21,
      "outputs": [
        {
          "name": "stdout",
          "text": [
            "(1, 2, 3, 4) (\u0027a\u0027, \u0027b\u0027, \u0027c\u0027, \u0027d\u0027)\n"
          ],
          "output_type": "stream"
        }
      ],
      "source": "z \u003d zip(L1, L2)\nnew_L1, new_L2 \u003d zip(*z)\nprint(new_L1, new_L2)",
      "metadata": {
        "pycharm": {
          "metadata": false,
          "name": "#%%\n",
          "is_executing": false
        }
      }
    },
    {
      "cell_type": "code",
      "execution_count": 22,
      "outputs": [
        {
          "name": "stdout",
          "text": [
            "(0, 1, 2) (0, 2, 1) (1, 0, 2) (1, 2, 0) (2, 0, 1) (2, 1, 0)\n"
          ],
          "output_type": "stream"
        }
      ],
      "source": "# permutations\nfrom itertools import permutations\np \u003d permutations(range(3))\nprint(*p)",
      "metadata": {
        "pycharm": {
          "metadata": false,
          "name": "#%%\n",
          "is_executing": false
        }
      }
    },
    {
      "cell_type": "code",
      "execution_count": 23,
      "outputs": [
        {
          "name": "stdout",
          "text": [
            "(0, 1) (0, 2) (0, 3) (1, 2) (1, 3) (2, 3)\n"
          ],
          "output_type": "stream"
        }
      ],
      "source": "from itertools import combinations\nc \u003d combinations(range(4), 2)\nprint(*c)",
      "metadata": {
        "pycharm": {
          "metadata": false,
          "name": "#%%\n",
          "is_executing": false
        }
      }
    },
    {
      "cell_type": "code",
      "execution_count": 24,
      "outputs": [
        {
          "name": "stdout",
          "text": [
            "(\u0027a\u0027, 0) (\u0027a\u0027, 1) (\u0027a\u0027, 2) (\u0027b\u0027, 0) (\u0027b\u0027, 1) (\u0027b\u0027, 2)\n"
          ],
          "output_type": "stream"
        }
      ],
      "source": "from itertools import product\np \u003d product(\u0027ab\u0027, range(3))\nprint(*p)",
      "metadata": {
        "pycharm": {
          "metadata": false,
          "name": "#%%\n",
          "is_executing": false
        }
      }
    }
  ],
  "metadata": {
    "language_info": {
      "codemirror_mode": {
        "name": "ipython",
        "version": 2
      },
      "file_extension": ".py",
      "mimetype": "text/x-python",
      "name": "python",
      "nbconvert_exporter": "python",
      "pygments_lexer": "ipython2",
      "version": "2.7.6"
    },
    "kernelspec": {
      "name": "python3",
      "language": "python",
      "display_name": "Python 3"
    }
  },
  "nbformat": 4,
  "nbformat_minor": 0
}