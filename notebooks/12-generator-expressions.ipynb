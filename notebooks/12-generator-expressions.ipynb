{
  "cells": [
    {
      "cell_type": "code",
      "execution_count": 1,
      "metadata": {
        "collapsed": true,
        "pycharm": {
          "is_executing": false
        }
      },
      "outputs": [
        {
          "data": {
            "text/plain": "[0, 1, 4, 9, 16, 25, 36, 49, 64, 81, 100, 121]"
          },
          "metadata": {},
          "output_type": "execute_result",
          "execution_count": 1
        }
      ],
      "source": "# list comprehension\n[n ** 2 for n in range(12)]"
    },
    {
      "cell_type": "code",
      "execution_count": 2,
      "outputs": [
        {
          "data": {
            "text/plain": "\u003cgenerator object \u003cgenexpr\u003e at 0x0000023C7544C6D8\u003e"
          },
          "metadata": {},
          "output_type": "execute_result",
          "execution_count": 2
        }
      ],
      "source": "# generator expression will not print the value \n(n ** 2 for n in range(12))",
      "metadata": {
        "pycharm": {
          "metadata": false,
          "name": "#%%\n",
          "is_executing": false
        }
      }
    },
    {
      "cell_type": "code",
      "execution_count": 3,
      "outputs": [
        {
          "data": {
            "text/plain": "[0, 1, 4, 9, 16, 25, 36, 49, 64, 81, 100, 121]"
          },
          "metadata": {},
          "output_type": "execute_result",
          "execution_count": 3
        }
      ],
      "source": "G \u003d (n ** 2 for n in range(12))\nlist(G)",
      "metadata": {
        "pycharm": {
          "metadata": false,
          "name": "#%%\n",
          "is_executing": false
        }
      }
    },
    {
      "cell_type": "code",
      "execution_count": 4,
      "outputs": [
        {
          "name": "stdout",
          "text": [
            "0 1 4 9 16 25 36 49 64 81 100 121 "
          ],
          "output_type": "stream"
        }
      ],
      "source": "# from tutorial\n# A list is a collection of values, while a generator is a recipe for producing values\n# list\nL \u003d [n ** 2 for n in range(12)]\nfor val in L:\n    print(val, end\u003d\u0027 \u0027)",
      "metadata": {
        "pycharm": {
          "metadata": false,
          "name": "#%%\n",
          "is_executing": false
        }
      }
    },
    {
      "cell_type": "code",
      "execution_count": 5,
      "outputs": [
        {
          "name": "stdout",
          "text": [
            "0 1 4 9 16 25 36 49 64 81 100 121 "
          ],
          "output_type": "stream"
        }
      ],
      "source": "G \u003d (n ** 2 for n in range(12))\nfor val in G:\n    print(val, end\u003d\u0027 \u0027)",
      "metadata": {
        "pycharm": {
          "metadata": false,
          "name": "#%%\n",
          "is_executing": false
        }
      }
    },
    {
      "cell_type": "code",
      "execution_count": 6,
      "outputs": [
        {
          "data": {
            "text/plain": "count(0)"
          },
          "metadata": {},
          "output_type": "execute_result",
          "execution_count": 6
        }
      ],
      "source": "# list is not consumed, while generator is\nfrom itertools import count\ncount()",
      "metadata": {
        "pycharm": {
          "metadata": false,
          "name": "#%%\n",
          "is_executing": false
        }
      }
    },
    {
      "cell_type": "code",
      "execution_count": 7,
      "outputs": [
        {
          "name": "stdout",
          "text": [
            "0 1 2 3 4 5 6 7 8 9 10 "
          ],
          "output_type": "stream"
        }
      ],
      "source": "for i in count():\n    print(i, end\u003d\u0027 \u0027)\n    if i \u003e\u003d 10: break",
      "metadata": {
        "pycharm": {
          "metadata": false,
          "name": "#%%\n",
          "is_executing": false
        }
      }
    },
    {
      "cell_type": "code",
      "execution_count": 8,
      "outputs": [
        {
          "name": "stdout",
          "text": [
            "1 11 13 17 19 23 29 31 37 41 "
          ],
          "output_type": "stream"
        }
      ],
      "source": "factors \u003d [2, 3, 5, 7]\nG \u003d (i for i in count() if all(i % n \u003e 0 for n in factors))\nfor val in G:\n    print(val, end\u003d\u0027 \u0027)\n    if val \u003e 40: break",
      "metadata": {
        "pycharm": {
          "metadata": false,
          "name": "#%%\n",
          "is_executing": false
        }
      }
    },
    {
      "cell_type": "code",
      "execution_count": 9,
      "outputs": [
        {
          "name": "stdout",
          "text": [
            "0 1 4 9 16 25 36 49 64 81 100 121 \n0 1 4 9 16 25 36 49 64 81 100 121 "
          ],
          "output_type": "stream"
        }
      ],
      "source": "L \u003d [n ** 2 for n in range(12)]\nfor val in L:\n    print(val, end\u003d\u0027 \u0027)\nprint()\n\nfor val in L:\n    print(val, end\u003d\u0027 \u0027)",
      "metadata": {
        "pycharm": {
          "metadata": false,
          "name": "#%%\n",
          "is_executing": false
        }
      }
    },
    {
      "cell_type": "code",
      "execution_count": 10,
      "outputs": [
        {
          "data": {
            "text/plain": "[0, 1, 4, 9, 16, 25, 36, 49, 64, 81, 100, 121]"
          },
          "metadata": {},
          "output_type": "execute_result",
          "execution_count": 10
        }
      ],
      "source": "G \u003d (n ** 2 for n in range(12))\nlist(G)",
      "metadata": {
        "pycharm": {
          "metadata": false,
          "name": "#%%\n",
          "is_executing": false
        }
      }
    },
    {
      "cell_type": "code",
      "execution_count": 11,
      "outputs": [
        {
          "data": {
            "text/plain": "[]"
          },
          "metadata": {},
          "output_type": "execute_result",
          "execution_count": 11
        }
      ],
      "source": "# nothing left, values have been consumed.\n# use a list comprehension if you need the values later, use generator if you don\u0027t.\nlist(G)",
      "metadata": {
        "pycharm": {
          "metadata": false,
          "name": "#%%\n",
          "is_executing": false
        }
      }
    },
    {
      "cell_type": "code",
      "execution_count": 12,
      "outputs": [
        {
          "name": "stdout",
          "text": [
            "0 1 4 9 16 25 36 \ndoing something in between\n49 64 81 100 121 "
          ],
          "output_type": "stream"
        }
      ],
      "source": "G \u003d (n**2 for n in range(12))\nfor n in G:\n    print(n, end\u003d\u0027 \u0027)\n    if n \u003e 30: break\n\nprint(\"\\ndoing something in between\")\n\nfor n in G:\n    print(n, end\u003d\u0027 \u0027)",
      "metadata": {
        "pycharm": {
          "metadata": false,
          "name": "#%%\n",
          "is_executing": false
        }
      }
    },
    {
      "cell_type": "code",
      "execution_count": 13,
      "outputs": [
        {
          "name": "stdout",
          "text": [
            "[0, 1, 4, 9, 16, 25, 36, 49, 64, 81, 100, 121]\n[0, 1, 4, 9, 16, 25, 36, 49, 64, 81, 100, 121]\n"
          ],
          "output_type": "stream"
        }
      ],
      "source": "L1 \u003d [n ** 2 for n in range(12)]\n\nL2 \u003d []\nfor n in range(12):\n    L2.append(n ** 2)\n\nprint(L1)\nprint(L2)",
      "metadata": {
        "pycharm": {
          "metadata": false,
          "name": "#%%\n",
          "is_executing": false
        }
      }
    },
    {
      "cell_type": "code",
      "execution_count": 14,
      "outputs": [
        {
          "name": "stdout",
          "text": [
            "0 1 4 9 16 25 36 49 64 81 100 121\n0 1 4 9 16 25 36 49 64 81 100 121\n"
          ],
          "output_type": "stream"
        }
      ],
      "source": "G1 \u003d (n ** 2 for n in range(12))\n\ndef gen():\n    for n in range(12):\n        yield n ** 2\n\nG2 \u003d gen()\nprint(*G1)\nprint(*G2)",
      "metadata": {
        "pycharm": {
          "metadata": false,
          "name": "#%%\n",
          "is_executing": false
        }
      }
    },
    {
      "cell_type": "code",
      "execution_count": 15,
      "outputs": [
        {
          "name": "stdout",
          "text": [
            "[2, 3, 4, 5, 6, 7, 8, 9, 10, 11, 12, 13, 14, 15, 16, 17, 18, 19, 20, 21, 22, 23, 24, 25, 26, 27, 28, 29, 30, 31, 32, 33, 34, 35, 36, 37, 38, 39]\n"
          ],
          "output_type": "stream"
        }
      ],
      "source": "# Generate a list of candidates\nL \u003d [n for n in range(2, 40)]\nprint(L)",
      "metadata": {
        "pycharm": {
          "metadata": false,
          "name": "#%%\n",
          "is_executing": false
        }
      }
    },
    {
      "cell_type": "code",
      "execution_count": 16,
      "outputs": [
        {
          "name": "stdout",
          "text": [
            "[2, 3, 5, 7, 9, 11, 13, 15, 17, 19, 21, 23, 25, 27, 29, 31, 33, 35, 37, 39]\n"
          ],
          "output_type": "stream"
        }
      ],
      "source": "# Remove all multiples of the first value\nL \u003d [n for n in L if n \u003d\u003d L[0] or n % L[0] \u003e 0]\nprint(L)",
      "metadata": {
        "pycharm": {
          "metadata": false,
          "name": "#%%\n",
          "is_executing": false
        }
      }
    },
    {
      "cell_type": "code",
      "execution_count": 17,
      "outputs": [
        {
          "name": "stdout",
          "text": [
            "[2, 3, 5, 7, 11, 13, 17, 19, 23, 25, 29, 31, 35, 37]\n"
          ],
          "output_type": "stream"
        }
      ],
      "source": "# Remove all multiples of the second value\nL \u003d [n for n in L if n \u003d\u003d L[1] or n % L[1] \u003e 0]\nprint(L)",
      "metadata": {
        "pycharm": {
          "metadata": false,
          "name": "#%%\n",
          "is_executing": false
        }
      }
    },
    {
      "cell_type": "code",
      "execution_count": 18,
      "outputs": [
        {
          "name": "stdout",
          "text": [
            "[2, 3, 5, 7, 11, 13, 17, 19, 23, 29, 31, 37]\n"
          ],
          "output_type": "stream"
        }
      ],
      "source": "# Remove all multiples of the third value\nL \u003d [n for n in L if n \u003d\u003d L[2] or n % L[2] \u003e 0]\nprint(L)",
      "metadata": {
        "pycharm": {
          "metadata": false,
          "name": "#%%\n",
          "is_executing": false
        }
      }
    },
    {
      "cell_type": "code",
      "execution_count": 19,
      "outputs": [
        {
          "name": "stdout",
          "text": [
            "2 3 5 7 11 13 17 19 23 29 31 37 41 43 47 53 59 61 67 71 73 79 83 89 97\n"
          ],
          "output_type": "stream"
        }
      ],
      "source": "# all in one go\ndef gen_primes(N):\n    \"\"\"generate primes up to N\"\"\"\n    primes \u003d set()\n    for n in range(2, N):\n        if all(n % p \u003e 0 for p in primes):\n            primes.add(n)\n            yield n\nprint(*gen_primes(100))",
      "metadata": {
        "pycharm": {
          "metadata": false,
          "name": "#%%\n",
          "is_executing": false
        }
      }
    },
    {
      "cell_type": "code",
      "execution_count": null,
      "outputs": [],
      "source": "",
      "metadata": {
        "pycharm": {
          "metadata": false,
          "name": "#%%\n"
        }
      }
    }
  ],
  "metadata": {
    "language_info": {
      "codemirror_mode": {
        "name": "ipython",
        "version": 2
      },
      "file_extension": ".py",
      "mimetype": "text/x-python",
      "name": "python",
      "nbconvert_exporter": "python",
      "pygments_lexer": "ipython2",
      "version": "2.7.6"
    },
    "kernelspec": {
      "name": "python3",
      "language": "python",
      "display_name": "Python 3"
    }
  },
  "nbformat": 4,
  "nbformat_minor": 0
}