{
  "cells": [
    {
      "cell_type": "code",
      "execution_count": 1,
      "metadata": {
        "collapsed": true,
        "pycharm": {
          "is_executing": false
        }
      },
      "outputs": [
        {
          "name": "stdout",
          "text": [
            "-15 is negative\n"
          ],
          "output_type": "stream"
        }
      ],
      "source": "# Conditional if-elif-else statements\nx \u003d -15\n\nif x \u003d\u003d 0:\n    print(x, \"is zero\")\nelif x \u003e 0:\n    print(x, \"is positive\")\nelif x \u003c 0:\n    print(x, \"is negative\")\nelse:\n    print(x, \"is unlike anything I have ever seen before!\")"
    },
    {
      "cell_type": "code",
      "execution_count": 2,
      "outputs": [
        {
          "name": "stdout",
          "text": [
            "2 3 5 7 "
          ],
          "output_type": "stream"
        }
      ],
      "source": "# for loops\n\nfor N in [2,3,5,7]:\n    print(N, end\u003d\" \")\n",
      "metadata": {
        "pycharm": {
          "metadata": false,
          "name": "#%%\n",
          "is_executing": false
        }
      }
    },
    {
      "cell_type": "code",
      "execution_count": 3,
      "outputs": [
        {
          "name": "stdout",
          "text": [
            "0 1 2 3 4 5 6 7 8 9 "
          ],
          "output_type": "stream"
        }
      ],
      "source": "for i in range(10):\n    print(i, end\u003d\" \")",
      "metadata": {
        "pycharm": {
          "metadata": false,
          "name": "#%%\n",
          "is_executing": false
        }
      }
    },
    {
      "cell_type": "code",
      "execution_count": 4,
      "outputs": [
        {
          "name": "stdout",
          "text": [
            "5 6 7 8 9 "
          ],
          "output_type": "stream"
        }
      ],
      "source": "# range from 5 to 10\nfor i in range(5, 10):\n    print(i, end\u003d\" \")",
      "metadata": {
        "pycharm": {
          "metadata": false,
          "name": "#%%\n",
          "is_executing": false
        }
      }
    },
    {
      "cell_type": "code",
      "execution_count": 5,
      "outputs": [
        {
          "data": {
            "text/plain": "[5, 6, 7, 8, 9]"
          },
          "metadata": {},
          "output_type": "execute_result",
          "execution_count": 5
        }
      ],
      "source": "list(range(5,10)) ",
      "metadata": {
        "pycharm": {
          "metadata": false,
          "name": "#%%\n",
          "is_executing": false
        }
      }
    },
    {
      "cell_type": "code",
      "execution_count": 6,
      "outputs": [
        {
          "data": {
            "text/plain": "[0, 2, 4, 6, 8]"
          },
          "metadata": {},
          "output_type": "execute_result",
          "execution_count": 6
        }
      ],
      "source": "# list range 0 to 10 by 2\nlist(range(0, 10, 2))",
      "metadata": {
        "pycharm": {
          "metadata": false,
          "name": "#%%\n",
          "is_executing": false
        }
      }
    },
    {
      "cell_type": "code",
      "execution_count": 7,
      "outputs": [
        {
          "name": "stdout",
          "text": [
            "0 1 2 3 4 5 6 7 8 9 "
          ],
          "output_type": "stream"
        }
      ],
      "source": "# while loops\ni \u003d 0\nwhile i \u003c 10:\n    print(i, end\u003d\" \")\n    i +\u003d 1",
      "metadata": {
        "pycharm": {
          "metadata": false,
          "name": "#%%\n",
          "is_executing": false
        }
      }
    },
    {
      "cell_type": "code",
      "execution_count": 9,
      "outputs": [
        {
          "name": "stdout",
          "text": [
            "1 3 5 7 9 11 13 15 17 19 "
          ],
          "output_type": "stream"
        }
      ],
      "source": "# continue and break\nfor n in range(20):\n    if n % 2 \u003d\u003d 0:\n        continue\n    print(n , end\u003d\" \") ",
      "metadata": {
        "pycharm": {
          "metadata": false,
          "name": "#%%\n",
          "is_executing": false
        }
      }
    },
    {
      "cell_type": "code",
      "execution_count": 10,
      "outputs": [
        {
          "name": "stdout",
          "text": [
            "[1, 1, 2, 3, 5, 8, 13, 21, 34, 55, 89]\n"
          ],
          "output_type": "stream"
        }
      ],
      "source": "# list of Fibonacci numbers up to a certain number\na, b \u003d 0, 1\namax \u003d 100\nL \u003d []\n\nwhile True:\n    (a, b) \u003d (b, a+b)\n    if a \u003e amax:\n        break\n    L.append(a)\nprint(L)",
      "metadata": {
        "pycharm": {
          "metadata": false,
          "name": "#%%\n",
          "is_executing": false
        }
      }
    },
    {
      "cell_type": "code",
      "execution_count": 12,
      "outputs": [
        {
          "name": "stdout",
          "text": [
            "[2, 3, 5, 7, 11, 13, 17, 19, 23, 29]\n"
          ],
          "output_type": "stream"
        }
      ],
      "source": "L \u003d []\nnmax \u003d 30\n\nfor n in range(2, nmax):\n    for factor in L:\n        if n % factor \u003d\u003d 0:\n            break\n    else:\n        L.append(n)\nprint(L)",
      "metadata": {
        "pycharm": {
          "metadata": false,
          "name": "#%%\n",
          "is_executing": false
        }
      }
    },
    {
      "cell_type": "code",
      "execution_count": null,
      "outputs": [],
      "source": "\n",
      "metadata": {
        "pycharm": {
          "metadata": false,
          "name": "#%%\n"
        }
      }
    }
  ],
  "metadata": {
    "language_info": {
      "codemirror_mode": {
        "name": "ipython",
        "version": 2
      },
      "file_extension": ".py",
      "mimetype": "text/x-python",
      "name": "python",
      "nbconvert_exporter": "python",
      "pygments_lexer": "ipython2",
      "version": "2.7.6"
    },
    "kernelspec": {
      "name": "python3",
      "language": "python",
      "display_name": "Python 3"
    }
  },
  "nbformat": 4,
  "nbformat_minor": 0
}