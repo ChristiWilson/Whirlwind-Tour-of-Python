{
  "cells": [
    {
      "cell_type": "code",
      "execution_count": 1,
      "outputs": [
        {
          "name": "stdout",
          "text": [
            "lower: [0, 1, 2, 3, 4]\nupper: [5, 6, 7, 8, 9]\n"
          ],
          "output_type": "stream"
        }
      ],
      "source": "midpoint \u003d 5\nlower \u003d []\nupper \u003d []\n\nfor i in range(10):\n    if i \u003c midpoint:\n        lower.append(i)\n    else:\n        upper.append(i)\n    \nprint(\"lower:\", lower)\nprint(\"upper:\", upper)",
      "metadata": {
        "pycharm": {
          "metadata": false,
          "name": "#%%\n",
          "is_executing": false
        }
      }
    },
    {
      "cell_type": "code",
      "execution_count": null,
      "outputs": [],
      "source": "# this is a comment\n# set the midpoint\nmidpoint \u003d 5\nx  \u003d 1\nx +\u003d 2 # same as x + x + 2\n",
      "metadata": {
        "pycharm": {
          "metadata": false,
          "name": "#%%\n"
        }
      }
    },
    {
      "cell_type": "code",
      "execution_count": 3,
      "outputs": [
        {
          "name": "stdout",
          "text": [
            "36\n36\n"
          ],
          "output_type": "stream"
        }
      ],
      "source": "# line continuation\nx \u003d 1 + 2 + 3 + 4 +\\\n    5 + 6 + 7 + 8\nprint(x)\n# or\nx \u003d (1 + 2 + 3 + 4 +\n     5 + 6 + 7 + 8)\nprint(x)",
      "metadata": {
        "pycharm": {
          "metadata": false,
          "name": "#%%\n",
          "is_executing": false
        }
      }
    },
    {
      "cell_type": "code",
      "execution_count": 4,
      "outputs": [
        {
          "name": "stdout",
          "text": [
            "4950\n"
          ],
          "output_type": "stream"
        }
      ],
      "source": "# Indentation Whitespace Matters!\ntotal \u003d 0\nfor i in range(100):\n    # indentation indicates code block\n    total +\u003d i\nprint(total)    ",
      "metadata": {
        "pycharm": {
          "metadata": false,
          "name": "#%%\n",
          "is_executing": false
        }
      }
    },
    {
      "cell_type": "code",
      "execution_count": 5,
      "outputs": [
        {
          "name": "stdout",
          "text": [
            "0\n0\n0\n"
          ],
          "output_type": "stream"
        }
      ],
      "source": "x \u003d 0\n\n# this will only print if x \u003c 4\nif x \u003c 4:\n    y \u003d x * 2\n    print(x)\n    print(y)\n# this will print no matter the value of x\nif x \u003c 4:\n    y \u003d x * 2\nprint(x)    ",
      "metadata": {
        "pycharm": {
          "metadata": false,
          "name": "#%%\n",
          "is_executing": false
        }
      }
    },
    {
      "cell_type": "code",
      "execution_count": null,
      "outputs": [],
      "source": "\n",
      "metadata": {
        "pycharm": {
          "metadata": false,
          "name": "#%%\n"
        }
      }
    }
  ],
  "metadata": {
    "language_info": {
      "codemirror_mode": {
        "name": "ipython",
        "version": 2
      },
      "file_extension": ".py",
      "mimetype": "text/x-python",
      "name": "python",
      "nbconvert_exporter": "python",
      "pygments_lexer": "ipython2",
      "version": "2.7.6"
    },
    "kernelspec": {
      "name": "python3",
      "language": "python",
      "display_name": "Python 3"
    },
    "stem_cell": {
      "cell_type": "raw",
      "source": "",
      "metadata": {
        "pycharm": {
          "metadata": false
        }
      }
    }
  },
  "nbformat": 4,
  "nbformat_minor": 0
}