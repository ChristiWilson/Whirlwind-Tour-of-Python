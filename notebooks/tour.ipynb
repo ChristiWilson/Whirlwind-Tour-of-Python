{
  "cells": [
    {
      "cell_type": "code",
      "execution_count": 1,
      "outputs": [
        {
          "name": "stdout",
          "text": [
            "lower: [0, 1, 2, 3, 4]\nupper: [5, 6, 7, 8, 9]\n"
          ],
          "output_type": "stream"
        }
      ],
      "source": "midpoint \u003d 5\nlower \u003d []\nupper \u003d []\n\nfor i in range(10):\n    if i \u003c midpoint:\n        lower.append(i)\n    else:\n        upper.append(i)\n    \nprint(\"lower:\", lower)\nprint(\"upper:\", upper)\n",
      "metadata": {
        "pycharm": {
          "metadata": false,
          "name": "#%%\n",
          "is_executing": false
        }
      }
    }
  ],
  "metadata": {
    "language_info": {
      "codemirror_mode": {
        "name": "ipython",
        "version": 2
      },
      "file_extension": ".py",
      "mimetype": "text/x-python",
      "name": "python",
      "nbconvert_exporter": "python",
      "pygments_lexer": "ipython2",
      "version": "2.7.6"
    },
    "kernelspec": {
      "name": "python3",
      "language": "python",
      "display_name": "Python 3"
    },
    "stem_cell": {
      "cell_type": "raw",
      "source": "",
      "metadata": {
        "pycharm": {
          "metadata": false
        }
      }
    }
  },
  "nbformat": 4,
  "nbformat_minor": 0
}