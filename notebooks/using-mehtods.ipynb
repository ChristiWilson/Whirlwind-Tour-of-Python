{
  "cells": [
    {
      "cell_type": "code",
      "execution_count": 1,
      "metadata": {
        "collapsed": true,
        "pycharm": {
          "is_executing": false
        }
      },
      "outputs": [],
      "source": "# the typical Fibonacci function\ndef fibonacci(N):\n    L \u003d []\n    a, b \u003d 0,1\n    while len(L) \u003c N:\n        a, b \u003d b, a + b\n        L.append(a)\n    return L"
    },
    {
      "cell_type": "code",
      "execution_count": 2,
      "outputs": [
        {
          "data": {
            "text/plain": "[1, 1, 2, 3, 5, 8, 13, 21, 34, 55]"
          },
          "metadata": {},
          "output_type": "execute_result",
          "execution_count": 2
        }
      ],
      "source": "fibonacci(10)",
      "metadata": {
        "pycharm": {
          "metadata": false,
          "name": "#%%\n",
          "is_executing": false
        }
      }
    },
    {
      "cell_type": "code",
      "execution_count": 5,
      "outputs": [
        {
          "name": "stdout",
          "text": [
            "3.0 4.0 (3-4j)\n"
          ],
          "output_type": "stream"
        }
      ],
      "source": "def real_imag_conj(val):\n    return val.real, val.imag, val.conjugate()\n\nr, i, c \u003d real_imag_conj(3 + 4j)\nprint(r, i, c)",
      "metadata": {
        "pycharm": {
          "metadata": false,
          "name": "#%%\n",
          "is_executing": false
        }
      }
    },
    {
      "cell_type": "code",
      "execution_count": 19,
      "outputs": [],
      "source": "# default arguments\ndef fibonacci2(N, a\u003d0, b\u003d1):\n    L \u003d []\n    while len(L) \u003c N:\n        a,b \u003d b, a + b\n        L.append(a)\n    return L",
      "metadata": {
        "pycharm": {
          "metadata": false,
          "name": "#%%\n",
          "is_executing": false
        }
      }
    },
    {
      "cell_type": "code",
      "execution_count": 20,
      "outputs": [
        {
          "data": {
            "text/plain": "[1, 1, 2, 3, 5, 8, 13, 21, 34, 55]"
          },
          "metadata": {},
          "output_type": "execute_result",
          "execution_count": 20
        }
      ],
      "source": "fibonacci2(10)",
      "metadata": {
        "pycharm": {
          "metadata": false,
          "name": "#%%\n",
          "is_executing": false
        }
      }
    },
    {
      "cell_type": "code",
      "execution_count": 21,
      "outputs": [
        {
          "data": {
            "text/plain": "[2, 2, 4, 6, 10, 16, 26, 42, 68, 110]"
          },
          "metadata": {},
          "output_type": "execute_result",
          "execution_count": 21
        }
      ],
      "source": "fibonacci2(10, 0, 2)",
      "metadata": {
        "pycharm": {
          "metadata": false,
          "name": "#%%\n",
          "is_executing": false
        }
      }
    },
    {
      "cell_type": "code",
      "execution_count": 22,
      "outputs": [
        {
          "data": {
            "text/plain": "[3, 4, 7, 11, 18, 29, 47, 76, 123, 199]"
          },
          "metadata": {},
          "output_type": "execute_result",
          "execution_count": 22
        }
      ],
      "source": "fibonacci2(10, b\u003d3, a\u003d1)",
      "metadata": {
        "pycharm": {
          "metadata": false,
          "name": "#%%\n",
          "is_executing": false
        }
      }
    },
    {
      "cell_type": "code",
      "execution_count": 23,
      "outputs": [],
      "source": "# *args **kwargs\ndef catch_all(*args, **kwargs):\n    print(\"args \u003d \", args)\n    print(\"kwargs \u003d\", kwargs)",
      "metadata": {
        "pycharm": {
          "metadata": false,
          "name": "#%%\n",
          "is_executing": false
        }
      }
    },
    {
      "cell_type": "code",
      "execution_count": 24,
      "outputs": [
        {
          "name": "stdout",
          "text": [
            "args \u003d  (1, 2, 3)\nkwargs \u003d {\u0027a\u0027: 4, \u0027b\u0027: 5}\n"
          ],
          "output_type": "stream"
        }
      ],
      "source": "catch_all(1,2,3, a\u003d4,b\u003d5)",
      "metadata": {
        "pycharm": {
          "metadata": false,
          "name": "#%%\n",
          "is_executing": false
        }
      }
    },
    {
      "cell_type": "code",
      "execution_count": 25,
      "outputs": [
        {
          "name": "stdout",
          "text": [
            "args \u003d  (\u0027a\u0027,)\nkwargs \u003d {\u0027keyword\u0027: 2}\n"
          ],
          "output_type": "stream"
        }
      ],
      "source": "catch_all(\"a\", keyword\u003d2)",
      "metadata": {
        "pycharm": {
          "metadata": false,
          "name": "#%%\n",
          "is_executing": false
        }
      }
    },
    {
      "cell_type": "code",
      "execution_count": 26,
      "outputs": [
        {
          "name": "stdout",
          "text": [
            "args \u003d  (1, 2, 3)\nkwargs \u003d {\u0027pi\u0027: 3.14}\n"
          ],
          "output_type": "stream"
        }
      ],
      "source": "inputs \u003d (1,2,3)\nkeywords \u003d {\"pi\": 3.14}\ncatch_all(*inputs, **keywords)",
      "metadata": {
        "pycharm": {
          "metadata": false,
          "name": "#%%\n",
          "is_executing": false
        }
      }
    },
    {
      "cell_type": "code",
      "execution_count": 27,
      "outputs": [
        {
          "data": {
            "text/plain": "5"
          },
          "metadata": {},
          "output_type": "execute_result",
          "execution_count": 27
        }
      ],
      "source": "# anonymous functions (lambda)\nadd \u003d lambda x,y : x + y\nadd(2,3)",
      "metadata": {
        "pycharm": {
          "metadata": false,
          "name": "#%%\n",
          "is_executing": false
        }
      }
    },
    {
      "cell_type": "code",
      "execution_count": 29,
      "outputs": [],
      "source": "data \u003d [{\u0027first\u0027:\u0027Guido\u0027, \u0027last\u0027:\u0027Van Rossum\u0027, \u0027YOB\u0027:1956},\n        {\u0027first\u0027:\u0027Grace\u0027, \u0027last\u0027:\u0027Hopper\u0027,     \u0027YOB\u0027:1906},\n        {\u0027first\u0027:\u0027Alan\u0027,  \u0027last\u0027:\u0027Turing\u0027,     \u0027YOB\u0027:1912}]",
      "metadata": {
        "pycharm": {
          "metadata": false,
          "name": "#%%\n",
          "is_executing": false
        }
      }
    },
    {
      "cell_type": "code",
      "execution_count": 30,
      "outputs": [
        {
          "data": {
            "text/plain": "[{\u0027first\u0027: \u0027Alan\u0027, \u0027last\u0027: \u0027Turing\u0027, \u0027YOB\u0027: 1912},\n {\u0027first\u0027: \u0027Grace\u0027, \u0027last\u0027: \u0027Hopper\u0027, \u0027YOB\u0027: 1906},\n {\u0027first\u0027: \u0027Guido\u0027, \u0027last\u0027: \u0027Van Rossum\u0027, \u0027YOB\u0027: 1956}]"
          },
          "metadata": {},
          "output_type": "execute_result",
          "execution_count": 30
        }
      ],
      "source": "sorted(data, key\u003dlambda item: item[\u0027first\u0027])",
      "metadata": {
        "pycharm": {
          "metadata": false,
          "name": "#%%\n",
          "is_executing": false
        }
      }
    },
    {
      "cell_type": "code",
      "execution_count": 31,
      "outputs": [
        {
          "data": {
            "text/plain": "[{\u0027first\u0027: \u0027Grace\u0027, \u0027last\u0027: \u0027Hopper\u0027, \u0027YOB\u0027: 1906},\n {\u0027first\u0027: \u0027Alan\u0027, \u0027last\u0027: \u0027Turing\u0027, \u0027YOB\u0027: 1912},\n {\u0027first\u0027: \u0027Guido\u0027, \u0027last\u0027: \u0027Van Rossum\u0027, \u0027YOB\u0027: 1956}]"
          },
          "metadata": {},
          "output_type": "execute_result",
          "execution_count": 31
        }
      ],
      "source": "sorted(data, key\u003dlambda item: item[\u0027YOB\u0027])\n",
      "metadata": {
        "pycharm": {
          "metadata": false,
          "name": "#%%\n",
          "is_executing": false
        }
      }
    }
  ],
  "metadata": {
    "language_info": {
      "codemirror_mode": {
        "name": "ipython",
        "version": 2
      },
      "file_extension": ".py",
      "mimetype": "text/x-python",
      "name": "python",
      "nbconvert_exporter": "python",
      "pygments_lexer": "ipython2",
      "version": "2.7.6"
    },
    "kernelspec": {
      "name": "python3",
      "language": "python",
      "display_name": "Python 3"
    }
  },
  "nbformat": 4,
  "nbformat_minor": 0
}