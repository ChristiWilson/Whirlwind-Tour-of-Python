{
  "cells": [
    {
      "cell_type": "code",
      "execution_count": 2,
      "metadata": {
        "collapsed": true,
        "pycharm": {
          "is_executing": false
        }
      },
      "outputs": [
        {
          "data": {
            "text/plain": "True"
          },
          "metadata": {},
          "output_type": "execute_result",
          "execution_count": 2
        }
      ],
      "source": "x \u003d \u0027a string\u0027\ny \u003d \"a string\"\nx \u003d\u003d y"
    },
    {
      "cell_type": "code",
      "execution_count": 4,
      "outputs": [
        {
          "data": {
            "text/plain": "\u0027\\none\\ntwo\\nthree\\n\u0027"
          },
          "metadata": {},
          "output_type": "execute_result",
          "execution_count": 4
        }
      ],
      "source": "multiline \u003d \"\"\"\none\ntwo\nthree\n\"\"\"\nmultiline",
      "metadata": {
        "pycharm": {
          "metadata": false,
          "name": "#%%\n",
          "is_executing": false
        }
      }
    },
    {
      "cell_type": "code",
      "execution_count": 5,
      "outputs": [
        {
          "data": {
            "text/plain": "\u0027tHe qUICk bROWn fOx.\u0027"
          },
          "metadata": {},
          "output_type": "execute_result",
          "execution_count": 5
        }
      ],
      "source": "# formatting strings\nfox \u003d \"tHe qUICk bROWn fOx.\"\nfox",
      "metadata": {
        "pycharm": {
          "metadata": false,
          "name": "#%%\n",
          "is_executing": false
        }
      }
    },
    {
      "cell_type": "code",
      "execution_count": 6,
      "outputs": [
        {
          "data": {
            "text/plain": "\u0027THE QUICK BROWN FOX.\u0027"
          },
          "metadata": {},
          "output_type": "execute_result",
          "execution_count": 6
        }
      ],
      "source": "fox.upper()",
      "metadata": {
        "pycharm": {
          "metadata": false,
          "name": "#%%\n",
          "is_executing": false
        }
      }
    },
    {
      "cell_type": "code",
      "execution_count": 7,
      "outputs": [
        {
          "data": {
            "text/plain": "\u0027The Quick Brown Fox.\u0027"
          },
          "metadata": {},
          "output_type": "execute_result",
          "execution_count": 7
        }
      ],
      "source": "fox.title()",
      "metadata": {
        "pycharm": {
          "metadata": false,
          "name": "#%%\n",
          "is_executing": false
        }
      }
    },
    {
      "cell_type": "code",
      "execution_count": 8,
      "outputs": [
        {
          "data": {
            "text/plain": "\u0027The quick brown fox.\u0027"
          },
          "metadata": {},
          "output_type": "execute_result",
          "execution_count": 8
        }
      ],
      "source": "fox.capitalize()",
      "metadata": {
        "pycharm": {
          "metadata": false,
          "name": "#%%\n",
          "is_executing": false
        }
      }
    },
    {
      "cell_type": "code",
      "execution_count": 9,
      "outputs": [
        {
          "data": {
            "text/plain": "\u0027ThE QuicK BrowN FoX.\u0027"
          },
          "metadata": {},
          "output_type": "execute_result",
          "execution_count": 9
        }
      ],
      "source": "fox.swapcase()",
      "metadata": {
        "pycharm": {
          "metadata": false,
          "name": "#%%\n",
          "is_executing": false
        }
      }
    },
    {
      "cell_type": "code",
      "execution_count": 10,
      "outputs": [
        {
          "data": {
            "text/plain": "\u0027         this is the content         \u0027"
          },
          "metadata": {},
          "output_type": "execute_result",
          "execution_count": 10
        }
      ],
      "source": "# adding and removing spaces\nline \u003d \u0027         this is the content         \u0027\nline",
      "metadata": {
        "pycharm": {
          "metadata": false,
          "name": "#%%\n",
          "is_executing": false
        }
      }
    },
    {
      "cell_type": "code",
      "execution_count": 11,
      "outputs": [
        {
          "data": {
            "text/plain": "\u0027this is the content\u0027"
          },
          "metadata": {},
          "output_type": "execute_result",
          "execution_count": 11
        }
      ],
      "source": "line.strip()",
      "metadata": {
        "pycharm": {
          "metadata": false,
          "name": "#%%\n",
          "is_executing": false
        }
      }
    },
    {
      "cell_type": "code",
      "execution_count": 12,
      "outputs": [
        {
          "data": {
            "text/plain": "\u0027this is the content         \u0027"
          },
          "metadata": {},
          "output_type": "execute_result",
          "execution_count": 12
        }
      ],
      "source": "line.lstrip()  ",
      "metadata": {
        "pycharm": {
          "metadata": false,
          "name": "#%%\n",
          "is_executing": false
        }
      }
    },
    {
      "cell_type": "code",
      "execution_count": 13,
      "outputs": [
        {
          "data": {
            "text/plain": "\u0027         this is the content\u0027"
          },
          "metadata": {},
          "output_type": "execute_result",
          "execution_count": 13
        }
      ],
      "source": "line.rstrip()",
      "metadata": {
        "pycharm": {
          "metadata": false,
          "name": "#%%\n",
          "is_executing": false
        }
      }
    },
    {
      "cell_type": "code",
      "execution_count": 14,
      "outputs": [
        {
          "data": {
            "text/plain": "\u0027435\u0027"
          },
          "metadata": {},
          "output_type": "execute_result",
          "execution_count": 14
        }
      ],
      "source": "num \u003d \"000000000000435\"\nnum.strip(\u00270\u0027)",
      "metadata": {
        "pycharm": {
          "metadata": false,
          "name": "#%%\n",
          "is_executing": false
        }
      }
    },
    {
      "cell_type": "code",
      "execution_count": 15,
      "outputs": [
        {
          "data": {
            "text/plain": "\u0027     this is the content      \u0027"
          },
          "metadata": {},
          "output_type": "execute_result",
          "execution_count": 15
        }
      ],
      "source": "line \u003d \"this is the content\"\nline.center(30)",
      "metadata": {
        "pycharm": {
          "metadata": false,
          "name": "#%%\n",
          "is_executing": false
        }
      }
    },
    {
      "cell_type": "code",
      "execution_count": 16,
      "outputs": [
        {
          "data": {
            "text/plain": "\u0027this is the content           \u0027"
          },
          "metadata": {},
          "output_type": "execute_result",
          "execution_count": 16
        }
      ],
      "source": "line.ljust(30)",
      "metadata": {
        "pycharm": {
          "metadata": false,
          "name": "#%%\n",
          "is_executing": false
        }
      }
    },
    {
      "cell_type": "code",
      "execution_count": 17,
      "outputs": [
        {
          "data": {
            "text/plain": "\u0027           this is the content\u0027"
          },
          "metadata": {},
          "output_type": "execute_result",
          "execution_count": 17
        }
      ],
      "source": "line.rjust(30)",
      "metadata": {
        "pycharm": {
          "metadata": false,
          "name": "#%%\n",
          "is_executing": false
        }
      }
    },
    {
      "cell_type": "code",
      "execution_count": 18,
      "outputs": [
        {
          "data": {
            "text/plain": "\u00270000000435\u0027"
          },
          "metadata": {},
          "output_type": "execute_result",
          "execution_count": 18
        }
      ],
      "source": "\u0027435\u0027.rjust(10, \u00270\u0027)",
      "metadata": {
        "pycharm": {
          "metadata": false,
          "name": "#%%\n",
          "is_executing": false
        }
      }
    },
    {
      "cell_type": "code",
      "execution_count": 19,
      "outputs": [
        {
          "data": {
            "text/plain": "\u00270000000435\u0027"
          },
          "metadata": {},
          "output_type": "execute_result",
          "execution_count": 19
        }
      ],
      "source": "\u0027435\u0027.zfill(10)",
      "metadata": {
        "pycharm": {
          "metadata": false,
          "name": "#%%\n",
          "is_executing": false
        }
      }
    },
    {
      "cell_type": "code",
      "execution_count": 21,
      "outputs": [
        {
          "data": {
            "text/plain": "16"
          },
          "metadata": {},
          "output_type": "execute_result",
          "execution_count": 21
        }
      ],
      "source": "# find and replace\nline \u003d \u0027the quick brown fox jumped over a lazy dog\u0027\nline.find(\u0027fox\u0027)",
      "metadata": {
        "pycharm": {
          "metadata": false,
          "name": "#%%\n",
          "is_executing": false
        }
      }
    },
    {
      "cell_type": "code",
      "execution_count": 22,
      "outputs": [
        {
          "data": {
            "text/plain": "16"
          },
          "metadata": {},
          "output_type": "execute_result",
          "execution_count": 22
        }
      ],
      "source": "line.index(\u0027fox\u0027)",
      "metadata": {
        "pycharm": {
          "metadata": false,
          "name": "#%%\n",
          "is_executing": false
        }
      }
    },
    {
      "cell_type": "code",
      "execution_count": 23,
      "outputs": [
        {
          "data": {
            "text/plain": "-1"
          },
          "metadata": {},
          "output_type": "execute_result",
          "execution_count": 23
        }
      ],
      "source": "line.find(\u0027bear\u0027)",
      "metadata": {
        "pycharm": {
          "metadata": false,
          "name": "#%%\n",
          "is_executing": false
        }
      }
    },
    {
      "cell_type": "code",
      "execution_count": 24,
      "outputs": [
        {
          "traceback": [
            "\u001b[1;31m---------------------------------------------------------------------------\u001b[0m",
            "\u001b[1;31mValueError\u001b[0m                                Traceback (most recent call last)",
            "\u001b[1;32m\u003cipython-input-24-adf599eb4c79\u003e\u001b[0m in \u001b[0;36m\u003cmodule\u003e\u001b[1;34m\u001b[0m\n\u001b[1;32m----\u003e 1\u001b[1;33m \u001b[0mline\u001b[0m\u001b[1;33m.\u001b[0m\u001b[0mindex\u001b[0m\u001b[1;33m(\u001b[0m\u001b[1;34m\u0027bear\u0027\u001b[0m\u001b[1;33m)\u001b[0m\u001b[1;33m\u001b[0m\u001b[1;33m\u001b[0m\u001b[0m\n\u001b[0m",
            "\u001b[1;31mValueError\u001b[0m: substring not found"
          ],
          "ename": "ValueError",
          "evalue": "substring not found",
          "output_type": "error"
        }
      ],
      "source": "line.index(\u0027bear\u0027)",
      "metadata": {
        "pycharm": {
          "metadata": false,
          "name": "#%%\n",
          "is_executing": false
        }
      }
    },
    {
      "cell_type": "code",
      "execution_count": 25,
      "outputs": [
        {
          "data": {
            "text/plain": "35"
          },
          "metadata": {},
          "output_type": "execute_result",
          "execution_count": 25
        }
      ],
      "source": "line.rfind(\u0027a\u0027)",
      "metadata": {
        "pycharm": {
          "metadata": false,
          "name": "#%%\n",
          "is_executing": false
        }
      }
    },
    {
      "cell_type": "code",
      "execution_count": 26,
      "outputs": [
        {
          "data": {
            "text/plain": "True"
          },
          "metadata": {},
          "output_type": "execute_result",
          "execution_count": 26
        }
      ],
      "source": "line.endswith(\u0027dog\u0027)",
      "metadata": {
        "pycharm": {
          "metadata": false,
          "name": "#%%\n",
          "is_executing": false
        }
      }
    },
    {
      "cell_type": "code",
      "execution_count": 27,
      "outputs": [
        {
          "data": {
            "text/plain": "False"
          },
          "metadata": {},
          "output_type": "execute_result",
          "execution_count": 27
        }
      ],
      "source": "line.startswith(\u0027fox\u0027)",
      "metadata": {
        "pycharm": {
          "metadata": false,
          "name": "#%%\n",
          "is_executing": false
        }
      }
    },
    {
      "cell_type": "code",
      "execution_count": 28,
      "outputs": [
        {
          "data": {
            "text/plain": "\u0027the quick red fox jumped over a lazy dog\u0027"
          },
          "metadata": {},
          "output_type": "execute_result",
          "execution_count": 28
        }
      ],
      "source": "line.replace(\u0027brown\u0027, \u0027red\u0027)",
      "metadata": {
        "pycharm": {
          "metadata": false,
          "name": "#%%\n",
          "is_executing": false
        }
      }
    },
    {
      "cell_type": "code",
      "execution_count": 29,
      "outputs": [
        {
          "data": {
            "text/plain": "\u0027the quick br--wn f--x jumped --ver a lazy d--g\u0027"
          },
          "metadata": {},
          "output_type": "execute_result",
          "execution_count": 29
        }
      ],
      "source": "line.replace(\u0027o\u0027, \u0027--\u0027)",
      "metadata": {
        "pycharm": {
          "metadata": false,
          "name": "#%%\n",
          "is_executing": false
        }
      }
    },
    {
      "cell_type": "code",
      "execution_count": 30,
      "outputs": [
        {
          "data": {
            "text/plain": "(\u0027the quick brown \u0027, \u0027fox\u0027, \u0027 jumped over a lazy dog\u0027)"
          },
          "metadata": {},
          "output_type": "execute_result",
          "execution_count": 30
        }
      ],
      "source": "# splitting and partitioning strings\nline.partition(\u0027fox\u0027)",
      "metadata": {
        "pycharm": {
          "metadata": false,
          "name": "#%%\n",
          "is_executing": false
        }
      }
    },
    {
      "cell_type": "code",
      "execution_count": 31,
      "outputs": [
        {
          "data": {
            "text/plain": "[\u0027the\u0027, \u0027quick\u0027, \u0027brown\u0027, \u0027fox\u0027, \u0027jumped\u0027, \u0027over\u0027, \u0027a\u0027, \u0027lazy\u0027, \u0027dog\u0027]"
          },
          "metadata": {},
          "output_type": "execute_result",
          "execution_count": 31
        }
      ],
      "source": "line.split()",
      "metadata": {
        "pycharm": {
          "metadata": false,
          "name": "#%%\n",
          "is_executing": false
        }
      }
    },
    {
      "cell_type": "code",
      "execution_count": 32,
      "outputs": [
        {
          "data": {
            "text/plain": "[\u0027matsushima-ya\u0027, \u0027aah matsushima-ya\u0027, \u0027matsushima-ya\u0027]"
          },
          "metadata": {},
          "output_type": "execute_result",
          "execution_count": 32
        }
      ],
      "source": "haiku \u003d \"\"\"matsushima-ya\naah matsushima-ya\nmatsushima-ya\"\"\"\n\nhaiku.splitlines()",
      "metadata": {
        "pycharm": {
          "metadata": false,
          "name": "#%%\n",
          "is_executing": false
        }
      }
    },
    {
      "cell_type": "code",
      "execution_count": 33,
      "outputs": [
        {
          "data": {
            "text/plain": "\u00271--2--3\u0027"
          },
          "metadata": {},
          "output_type": "execute_result",
          "execution_count": 33
        }
      ],
      "source": "\u0027--\u0027.join([\u00271\u0027, \u00272\u0027, \u00273\u0027])",
      "metadata": {
        "pycharm": {
          "metadata": false,
          "name": "#%%\n",
          "is_executing": false
        }
      }
    },
    {
      "cell_type": "code",
      "execution_count": 34,
      "outputs": [
        {
          "name": "stdout",
          "text": [
            "matsushima-ya\naah matsushima-ya\nmatsushima-ya\n"
          ],
          "output_type": "stream"
        }
      ],
      "source": "print(\"\\n\".join([\u0027matsushima-ya\u0027, \u0027aah matsushima-ya\u0027, \u0027matsushima-ya\u0027]))",
      "metadata": {
        "pycharm": {
          "metadata": false,
          "name": "#%%\n",
          "is_executing": false
        }
      }
    },
    {
      "cell_type": "code",
      "execution_count": 35,
      "outputs": [
        {
          "data": {
            "text/plain": "\u00273.14159\u0027"
          },
          "metadata": {},
          "output_type": "execute_result",
          "execution_count": 35
        }
      ],
      "source": "# format strings\npi \u003d 3.14159\nstr(pi)",
      "metadata": {
        "pycharm": {
          "metadata": false,
          "name": "#%%\n",
          "is_executing": false
        }
      }
    },
    {
      "cell_type": "code",
      "execution_count": 37,
      "outputs": [
        {
          "data": {
            "text/plain": "\u0027The value of pi is 3.14159\u0027"
          },
          "metadata": {},
          "output_type": "execute_result",
          "execution_count": 37
        }
      ],
      "source": "\"The value of pi is \" + str(pi)",
      "metadata": {
        "pycharm": {
          "metadata": false,
          "name": "#%%\n",
          "is_executing": false
        }
      }
    },
    {
      "cell_type": "code",
      "execution_count": 38,
      "outputs": [
        {
          "data": {
            "text/plain": "\u0027The value of pi is 3.14159\u0027"
          },
          "metadata": {},
          "output_type": "execute_result",
          "execution_count": 38
        }
      ],
      "source": "\"The value of pi is {}\".format(pi)",
      "metadata": {
        "pycharm": {
          "metadata": false,
          "name": "#%%\n",
          "is_executing": false
        }
      }
    },
    {
      "cell_type": "code",
      "execution_count": 39,
      "outputs": [
        {
          "data": {
            "text/plain": "\u0027First letter: A. Last letter: Z.\u0027"
          },
          "metadata": {},
          "output_type": "execute_result",
          "execution_count": 39
        }
      ],
      "source": "\"\"\"First letter: {0}. Last letter: {1}.\"\"\".format(\u0027A\u0027, \u0027Z\u0027)",
      "metadata": {
        "pycharm": {
          "metadata": false,
          "name": "#%%\n",
          "is_executing": false
        }
      }
    },
    {
      "cell_type": "code",
      "execution_count": 40,
      "outputs": [
        {
          "data": {
            "text/plain": "\u0027First letter: A. Last letter: Z.\u0027"
          },
          "metadata": {},
          "output_type": "execute_result",
          "execution_count": 40
        }
      ],
      "source": "\"\"\"First letter: {first}. Last letter: {last}.\"\"\".format(last\u003d\u0027Z\u0027, first\u003d\u0027A\u0027)",
      "metadata": {
        "pycharm": {
          "metadata": false,
          "name": "#%%\n",
          "is_executing": false
        }
      }
    },
    {
      "cell_type": "code",
      "execution_count": 41,
      "outputs": [
        {
          "data": {
            "text/plain": "\u0027pi \u003d 3.142\u0027"
          },
          "metadata": {},
          "output_type": "execute_result",
          "execution_count": 41
        }
      ],
      "source": "\"pi \u003d {0:.3f}\".format(pi)",
      "metadata": {
        "pycharm": {
          "metadata": false,
          "name": "#%%\n",
          "is_executing": false
        }
      }
    },
    {
      "cell_type": "code",
      "execution_count": 42,
      "outputs": [
        {
          "data": {
            "text/plain": "\u0027Christi is my name\u0027"
          },
          "metadata": {},
          "output_type": "execute_result",
          "execution_count": 42
        }
      ],
      "source": "# try to do f\u0027string\nchristi \u003d \"Christi\"\nf\u0027{christi} is my name\u0027",
      "metadata": {
        "pycharm": {
          "metadata": false,
          "name": "#%%\n",
          "is_executing": false
        }
      }
    },
    {
      "cell_type": "code",
      "execution_count": 43,
      "outputs": [
        {
          "data": {
            "text/plain": "[\u0027the\u0027, \u0027quick\u0027, \u0027brown\u0027, \u0027fox\u0027, \u0027jumped\u0027, \u0027over\u0027, \u0027a\u0027, \u0027lazy\u0027, \u0027dog\u0027]"
          },
          "metadata": {},
          "output_type": "execute_result",
          "execution_count": 43
        }
      ],
      "source": "# regular expression - REALLY need to study these\nimport re\nregex \u003d re.compile(\u0027\\s+\u0027)\nregex.split(line)",
      "metadata": {
        "pycharm": {
          "metadata": false,
          "name": "#%%\n",
          "is_executing": false
        }
      }
    },
    {
      "cell_type": "code",
      "execution_count": 44,
      "outputs": [
        {
          "name": "stdout",
          "text": [
            "\u0027     \u0027 matches\n\u0027abc  \u0027 does not match\n\u0027  abc\u0027 matches\n"
          ],
          "output_type": "stream"
        }
      ],
      "source": "for s in [\"     \", \"abc  \", \"  abc\"]:\n    if regex.match(s):\n        print(repr(s), \"matches\")\n    else:\n        print(repr(s), \"does not match\")",
      "metadata": {
        "pycharm": {
          "metadata": false,
          "name": "#%%\n",
          "is_executing": false
        }
      }
    },
    {
      "cell_type": "code",
      "execution_count": 45,
      "outputs": [],
      "source": "line \u003d \u0027the quick brown fox jumped over a lazy dog\u0027",
      "metadata": {
        "pycharm": {
          "metadata": false,
          "name": "#%%\n",
          "is_executing": false
        }
      }
    },
    {
      "cell_type": "code",
      "execution_count": 46,
      "outputs": [
        {
          "data": {
            "text/plain": "16"
          },
          "metadata": {},
          "output_type": "execute_result",
          "execution_count": 46
        }
      ],
      "source": "line.index(\u0027fox\u0027)",
      "metadata": {
        "pycharm": {
          "metadata": false,
          "name": "#%%\n",
          "is_executing": false
        }
      }
    },
    {
      "cell_type": "code",
      "execution_count": 47,
      "outputs": [
        {
          "data": {
            "text/plain": "16"
          },
          "metadata": {},
          "output_type": "execute_result",
          "execution_count": 47
        }
      ],
      "source": "regex \u003d re.compile(\u0027fox\u0027)\nmatch \u003d regex.search(line)\nmatch.start()",
      "metadata": {
        "pycharm": {
          "metadata": false,
          "name": "#%%\n",
          "is_executing": false
        }
      }
    },
    {
      "cell_type": "code",
      "execution_count": 48,
      "outputs": [
        {
          "data": {
            "text/plain": "\u0027the quick brown BEAR jumped over a lazy dog\u0027"
          },
          "metadata": {},
          "output_type": "execute_result",
          "execution_count": 48
        }
      ],
      "source": "# for some odd reason, this one made me giggle\nline.replace(\u0027fox\u0027, \u0027BEAR\u0027)",
      "metadata": {
        "pycharm": {
          "metadata": false,
          "name": "#%%\n",
          "is_executing": false
        }
      }
    },
    {
      "cell_type": "code",
      "execution_count": 49,
      "outputs": [
        {
          "data": {
            "text/plain": "\u0027the quick brown BEAR jumped over a lazy dog\u0027"
          },
          "metadata": {},
          "output_type": "execute_result",
          "execution_count": 49
        }
      ],
      "source": "regex.sub(\u0027BEAR\u0027, line)",
      "metadata": {
        "pycharm": {
          "metadata": false,
          "name": "#%%\n",
          "is_executing": false
        }
      }
    },
    {
      "cell_type": "code",
      "execution_count": 50,
      "outputs": [],
      "source": "# come complex examples (what you would really us regex for\nemail \u003d re.compile(\u0027\\w+@\\w+\\.[a-z]{3}\u0027)",
      "metadata": {
        "pycharm": {
          "metadata": false,
          "name": "#%%\n",
          "is_executing": false
        }
      }
    },
    {
      "cell_type": "code",
      "execution_count": 51,
      "outputs": [
        {
          "data": {
            "text/plain": "[\u0027guido@python.org\u0027, \u0027guido@google.com\u0027]"
          },
          "metadata": {},
          "output_type": "execute_result",
          "execution_count": 51
        }
      ],
      "source": "text \u003d \"To email Guido, try guido@python.org or the older address guido@google.com.\"\nemail.findall(text)",
      "metadata": {
        "pycharm": {
          "metadata": false,
          "name": "#%%\n",
          "is_executing": false
        }
      }
    },
    {
      "cell_type": "code",
      "execution_count": 52,
      "outputs": [
        {
          "data": {
            "text/plain": "\u0027To email Guido, try --@--.-- or the older address --@--.--.\u0027"
          },
          "metadata": {},
          "output_type": "execute_result",
          "execution_count": 52
        }
      ],
      "source": "email.sub(\u0027--@--.--\u0027, text)",
      "metadata": {
        "pycharm": {
          "metadata": false,
          "name": "#%%\n",
          "is_executing": false
        }
      }
    },
    {
      "cell_type": "code",
      "execution_count": 53,
      "outputs": [
        {
          "data": {
            "text/plain": "[\u0027obama@whitehouse.gov\u0027]"
          },
          "metadata": {},
          "output_type": "execute_result",
          "execution_count": 53
        }
      ],
      "source": "# yeah, I don\u0027t think I\u0027d find him there. I will not be emailing trump. I\u0027d be arrested, or spoken to by the FBI \u0026 SS\nemail.findall(\u0027barack.obama@whitehouse.gov\u0027)",
      "metadata": {
        "pycharm": {
          "metadata": false,
          "name": "#%%\n",
          "is_executing": false
        }
      }
    },
    {
      "cell_type": "code",
      "execution_count": 54,
      "outputs": [
        {
          "data": {
            "text/plain": "[\u0027ion\u0027]"
          },
          "metadata": {},
          "output_type": "execute_result",
          "execution_count": 54
        }
      ],
      "source": "# basics of regex\n# simple strings are matched directly\nregex \u003d re.compile(\u0027ion\u0027)\nregex.findall(\u0027Great Expectations\u0027)",
      "metadata": {
        "pycharm": {
          "metadata": false,
          "name": "#%%\n",
          "is_executing": false
        }
      }
    },
    {
      "cell_type": "code",
      "execution_count": 55,
      "outputs": [
        {
          "data": {
            "text/plain": "[\u0027$\u0027]"
          },
          "metadata": {},
          "output_type": "execute_result",
          "execution_count": 55
        }
      ],
      "source": "regex \u003d re.compile(r\u0027\\$\u0027)\nregex.findall(\"the cost is $20\")",
      "metadata": {
        "pycharm": {
          "metadata": false,
          "name": "#%%\n",
          "is_executing": false
        }
      }
    },
    {
      "cell_type": "code",
      "execution_count": 56,
      "outputs": [
        {
          "name": "stdout",
          "text": [
            "a\tb\tc\n"
          ],
          "output_type": "stream"
        }
      ],
      "source": "# I am just going to copy and paste from tutorial in \"docstring\" format\n\"\"\"The r preface in r\u0027\\$\u0027 indicates a raw string; in standard Python strings, the backslash is used to indicate special characters. For example, a tab is indicated by \"\\t\":\"\"\"\nprint(\u0027a\\tb\\tc\u0027)",
      "metadata": {
        "pycharm": {
          "metadata": false,
          "name": "#%%\n",
          "is_executing": false
        }
      }
    },
    {
      "cell_type": "code",
      "execution_count": 57,
      "outputs": [
        {
          "name": "stdout",
          "text": [
            "a\\tb\\tc\n"
          ],
          "output_type": "stream"
        }
      ],
      "source": "\"\"\"Such substitutions are not made in a raw string:\"\"\"\nprint(r\u0027a\\tb\\tc\u0027)",
      "metadata": {
        "pycharm": {
          "metadata": false,
          "name": "#%%\n",
          "is_executing": false
        }
      }
    },
    {
      "cell_type": "code",
      "execution_count": 58,
      "outputs": [
        {
          "data": {
            "text/plain": "[\u0027e f\u0027, \u0027x i\u0027, \u0027s 9\u0027, \u0027s o\u0027]"
          },
          "metadata": {},
          "output_type": "execute_result",
          "execution_count": 58
        }
      ],
      "source": "\"\"\"Special characters can match character groups\"\"\"\nregex \u003d re.compile(r\u0027\\w\\s\\w\u0027)\nregex.findall(\u0027the fox is 9 years old\u0027)",
      "metadata": {
        "pycharm": {
          "metadata": false,
          "name": "#%%\n",
          "is_executing": false
        }
      }
    },
    {
      "cell_type": "code",
      "execution_count": 59,
      "outputs": [
        {
          "data": {
            "text/plain": "[\u0027c\u0027, \u0027ns\u0027, \u0027q\u0027, \u0027\u0027, \u0027nt\u0027, \u0027\u0027, \u0027l\u0027]"
          },
          "metadata": {},
          "output_type": "execute_result",
          "execution_count": 59
        }
      ],
      "source": "\"\"\"Square brackets match custom character groups\"\"\"\nregex \u003d re.compile(\u0027[aeiou]\u0027)\nregex.split(\u0027consequential\u0027)",
      "metadata": {
        "pycharm": {
          "metadata": false,
          "name": "#%%\n",
          "is_executing": false
        }
      }
    },
    {
      "cell_type": "code",
      "execution_count": 60,
      "outputs": [
        {
          "data": {
            "text/plain": "[\u0027G2\u0027, \u0027H6\u0027]"
          },
          "metadata": {},
          "output_type": "execute_result",
          "execution_count": 60
        }
      ],
      "source": "regex \u003d re.compile(\u0027[A-Z][0-9]\u0027)\nregex.findall(\u00271043879, G2, H6\u0027)",
      "metadata": {
        "pycharm": {
          "metadata": false,
          "name": "#%%\n",
          "is_executing": false
        }
      }
    },
    {
      "cell_type": "code",
      "execution_count": 61,
      "outputs": [
        {
          "data": {
            "text/plain": "[\u0027The\u0027, \u0027qui\u0027, \u0027bro\u0027, \u0027fox\u0027]"
          },
          "metadata": {},
          "output_type": "execute_result",
          "execution_count": 61
        }
      ],
      "source": "\"\"\"Wildcards match repeated characters\"\"\"\n\"\"\"If you would like to match a string with, say, three alphanumeric characters in a row, it is possible to write, for example, \"\\w\\w\\w\". Because this is such a common need, there is a specific syntax to match repetitions – curly braces with a number:\"\"\"\nregex \u003d re.compile(r\u0027\\w{3}\u0027)\nregex.findall(\u0027The quick brown fox\u0027)",
      "metadata": {
        "pycharm": {
          "metadata": false,
          "name": "#%%\n",
          "is_executing": false
        }
      }
    },
    {
      "cell_type": "code",
      "execution_count": 62,
      "outputs": [
        {
          "data": {
            "text/plain": "[\u0027The\u0027, \u0027quick\u0027, \u0027brown\u0027, \u0027fox\u0027]"
          },
          "metadata": {},
          "output_type": "execute_result",
          "execution_count": 62
        }
      ],
      "source": "\"\"\"There are also markers available to match any number of repetitions – for example, the \"+\" character will match one or more repetitions of what precedes it:\"\"\"\nregex \u003d re.compile(r\u0027\\w+\u0027)\nregex.findall(\u0027The quick brown fox\u0027)",
      "metadata": {
        "pycharm": {
          "metadata": false,
          "name": "#%%\n",
          "is_executing": false
        }
      }
    },
    {
      "cell_type": "code",
      "execution_count": 63,
      "outputs": [],
      "source": "email \u003d re.compile(r\u0027\\w+@\\w+\\.[a-z]{3}\u0027)",
      "metadata": {
        "pycharm": {
          "metadata": false,
          "name": "#%%\n",
          "is_executing": false
        }
      }
    },
    {
      "cell_type": "code",
      "execution_count": 64,
      "outputs": [
        {
          "data": {
            "text/plain": "[\u0027barack.obama@whitehouse.gov\u0027]"
          },
          "metadata": {},
          "output_type": "execute_result",
          "execution_count": 64
        }
      ],
      "source": "# I sure miss Mr. Obama!\nemail2 \u003d re.compile(r\u0027[\\w.]+@\\w+\\.[a-z]{3}\u0027)\nemail2.findall(\u0027barack.obama@whitehouse.gov\u0027)",
      "metadata": {
        "pycharm": {
          "metadata": false,
          "name": "#%%\n",
          "is_executing": false
        }
      }
    },
    {
      "cell_type": "code",
      "execution_count": 65,
      "outputs": [],
      "source": "\"\"\"Parentheses indicate groups to extract\"\"\"\nemail3 \u003d re.compile(r\u0027([\\w.]+)@(\\w+)\\.([a-z]{3})\u0027)",
      "metadata": {
        "pycharm": {
          "metadata": false,
          "name": "#%%\n",
          "is_executing": false
        }
      }
    },
    {
      "cell_type": "code",
      "execution_count": 66,
      "outputs": [
        {
          "data": {
            "text/plain": "[(\u0027guido\u0027, \u0027python\u0027, \u0027org\u0027), (\u0027guido\u0027, \u0027google\u0027, \u0027com\u0027)]"
          },
          "metadata": {},
          "output_type": "execute_result",
          "execution_count": 66
        }
      ],
      "source": "text \u003d \"To email Guido, try guido@python.org or the older address guido@google.com.\"\nemail3.findall(text)",
      "metadata": {
        "pycharm": {
          "metadata": false,
          "name": "#%%\n",
          "is_executing": false
        }
      }
    },
    {
      "cell_type": "code",
      "execution_count": 67,
      "outputs": [
        {
          "data": {
            "text/plain": "{\u0027user\u0027: \u0027guido\u0027, \u0027domain\u0027: \u0027python\u0027, \u0027suffix\u0027: \u0027org\u0027}"
          },
          "metadata": {},
          "output_type": "execute_result",
          "execution_count": 67
        }
      ],
      "source": "email4 \u003d re.compile(r\u0027(?P\u003cuser\u003e[\\w.]+)@(?P\u003cdomain\u003e\\w+)\\.(?P\u003csuffix\u003e[a-z]{3})\u0027)\nmatch \u003d email4.match(\u0027guido@python.org\u0027)\nmatch.groupdict()",
      "metadata": {
        "pycharm": {
          "metadata": false,
          "name": "#%%\n",
          "is_executing": false
        }
      }
    }
  ],
  "metadata": {
    "language_info": {
      "codemirror_mode": {
        "name": "ipython",
        "version": 2
      },
      "file_extension": ".py",
      "mimetype": "text/x-python",
      "name": "python",
      "nbconvert_exporter": "python",
      "pygments_lexer": "ipython2",
      "version": "2.7.6"
    },
    "kernelspec": {
      "name": "python3",
      "language": "python",
      "display_name": "Python 3"
    }
  },
  "nbformat": 4,
  "nbformat_minor": 0
}